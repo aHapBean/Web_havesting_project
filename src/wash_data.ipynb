{
 "cells": [
  {
   "cell_type": "markdown",
   "metadata": {},
   "source": [
    "# Import Modules"
   ]
  },
  {
   "cell_type": "code",
   "execution_count": 1,
   "metadata": {},
   "outputs": [],
   "source": [
    "import csv\n",
    "import pandas as pd\n",
    "import nltk\n",
    "import re\n",
    "# execute next line the first time you run nltk\n",
    "# nltk.download('punkt')"
   ]
  },
  {
   "cell_type": "code",
   "execution_count": 7,
   "metadata": {},
   "outputs": [],
   "source": [
    "file_name = 'raw_data/training.1600000.processed.noemoticon.csv'\n",
    "df = pd.read_csv(file_name, dtype={'labels': int, 'datas': str})\n",
    "# extract df[0] as emotion labels\n",
    "labels = df.iloc[:, 0].tolist()\n",
    "labels = [1 if label == 4 else 0 for label in labels]\n",
    "# extract df[5] as text inputs\n",
    "datas = df.iloc[:, 5].tolist()\n",
    "\n",
    "data_len = len(datas)"
   ]
  },
  {
   "cell_type": "code",
   "execution_count": 8,
   "metadata": {},
   "outputs": [],
   "source": [
    "# regex = re.compile(r'(?:(http|https|ftp):\\/\\/)?((|[\\w-]+\\.)+[a-z0-9]+)(?:(\\/[^/?#]+)*)?(\\?[^#]+)?(#.+)?$')\n",
    "empty_indices = []\n",
    "\n",
    "for i in range(data_len):\n",
    "    # wash data\n",
    "    datas[i] = re.sub('@\\w+', repl='', string=datas[i]).strip()\n",
    "    datas[i] = re.sub('@\\s\\w+', repl='', string=datas[i]).strip()\n",
    "    datas[i] = re.sub('#\\w+', repl='', string=datas[i]).strip()\n",
    "    datas[i] = re.sub('http[s]?[^\\s\\n]*', '', datas[i]).strip()\n",
    "    datas[i] = re.sub('&\\w+', '', datas[i]).strip()\n",
    "    datas[i] = re.sub(r'\\b[A-Za-z0-9._%+-]+@[A-Za-z0-9.-]+\\.[A-Z|a-z]{2,}\\b', '', datas[i]).strip()\n",
    "    datas[i] = re.sub(r'<.*?>', '', datas[i]).strip()\n",
    "    datas[i] = re.sub(r'\\b\\d{3}[-.]?\\d{3}[-.]?\\d{4}\\b', '', datas[i]).strip()\n",
    "    datas[i] = re.sub(r'[^\\w\\s]', '', datas[i]).strip()\n",
    "    datas[i] = re.sub(r'\\s+', ' ', datas[i]).strip()\n",
    "    datas[i] = datas[i].lower()\n",
    "\n",
    "    # check if the data is empty\n",
    "    if datas[i] == '':\n",
    "        empty_indices.append(i)\n",
    "\n",
    "# remove empty data and corresponding labels\n",
    "for index in sorted(empty_indices, reverse=True):\n",
    "    del datas[index]\n",
    "    del labels[index]\n",
    "\n"
   ]
  },
  {
   "cell_type": "markdown",
   "metadata": {},
   "source": [
    "# Save washed data"
   ]
  },
  {
   "cell_type": "code",
   "execution_count": 8,
   "metadata": {},
   "outputs": [],
   "source": [
    "washed_data = pd.DataFrame({\n",
    "    'labels': labels,\n",
    "    'datas': datas\n",
    "})\n",
    "washed_data.to_csv('data/washed_data.csv', index=False)"
   ]
  }
 ],
 "metadata": {
  "kernelspec": {
   "display_name": "CS3307",
   "language": "python",
   "name": "python3"
  },
  "language_info": {
   "codemirror_mode": {
    "name": "ipython",
    "version": 3
   },
   "file_extension": ".py",
   "mimetype": "text/x-python",
   "name": "python",
   "nbconvert_exporter": "python",
   "pygments_lexer": "ipython3",
   "version": "3.9.18"
  }
 },
 "nbformat": 4,
 "nbformat_minor": 2
}
